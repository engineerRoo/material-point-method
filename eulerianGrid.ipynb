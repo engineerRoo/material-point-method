{
 "cells": [
  {
   "cell_type": "code",
   "execution_count": null,
   "id": "112fab67",
   "metadata": {},
   "outputs": [],
   "source": [
    "class eulerianGrid:\n",
    "    def __init__(self, Nx, Ny, Nz):\n",
    "        \n",
    "        ## create index arrays\n",
    "        I = np.arange(Nx)\n",
    "        J = np.arange(Ny)\n",
    "        K = np.arange(Ny)\n",
    "        self.II, self.JJ, self.KK = np.meshgrid(I,J,K, indexing='ij')\n",
    "        \n",
    "        ## create eulerian grid in 2D\n",
    "        x = np.linspace(-1, 1, Nx); self.hx=x[1]-x[0]\n",
    "        y = np.linspace(-1, 1, Ny); self.hy=y[1]-y[0]\n",
    "        z = np.linspace(-1, 1, Nz); self.hz=z[1]-z[0]\n",
    "        self.xx, self.yy, self.zz = np.meshgrid(x, y, z, indexing='ij')\n",
    "\n",
    "        ## create eulerian grid for mass, velocities and density\n",
    "        self.mm = self.xx*0.\n",
    "        \n",
    "        self.uu = self.xx*0. ## actual velocity\n",
    "        self.vv = self.xx*0. ## actual velocity\n",
    "        self.ww = self.xx*0. ## actual velocity\n",
    "        \n",
    "        self.uuo = self.xx*0. ## prev velocity\n",
    "        self.vvo = self.xx*0. ## prev velocity\n",
    "        self.wwo = self.xx*0. ## prev velocity\n",
    "        \n",
    "        \n",
    "        ## not used in code \n",
    "        self.uue = self.xx*0. ## explicit velocity (for solving with CG)\n",
    "        self.vve = self.xx*0. ## explicit velocity (for solving with CG)\n",
    "        self.wwe = self.xx*0. ## explicit velocity (for solving with CG)\n",
    "        \n",
    "        \n",
    "        ## for body collisions\n",
    "        self.vn  = self.xx*0.\n",
    "        self.vt  = self.xx*0.\n",
    "        self.uut = self.xx*0.\n",
    "        self.vvt = self.xx*0.\n",
    "        self.wwt = self.xx*0.\n",
    "        \n",
    "        ## forces + some boolean checks for static object's level set\n",
    "        self.ffx = self.xx*0.\n",
    "        self.ffy = self.xx*0.\n",
    "        self.ffz = self.xx*0.\n",
    "        self.bb  = np.zeros(self.xx.shape, dtype=bool)\n",
    "        self.bbb = np.zeros(self.xx.shape, dtype=bool)\n",
    "        self.bbf = np.zeros(self.xx.shape, dtype=bool)\n",
    "        \n",
    "    def clearGridVals(self):\n",
    "        self.mm[:] = 0.\n",
    "        self.uu[:] = 0.\n",
    "        self.vv[:] = 0.\n",
    "        self.ww[:] = 0."
   ]
  }
 ],
 "metadata": {
  "kernelspec": {
   "display_name": "Python 3 (ipykernel)",
   "language": "python",
   "name": "python3"
  },
  "language_info": {
   "codemirror_mode": {
    "name": "ipython",
    "version": 3
   },
   "file_extension": ".py",
   "mimetype": "text/x-python",
   "name": "python",
   "nbconvert_exporter": "python",
   "pygments_lexer": "ipython3",
   "version": "3.9.7"
  }
 },
 "nbformat": 4,
 "nbformat_minor": 5
}
