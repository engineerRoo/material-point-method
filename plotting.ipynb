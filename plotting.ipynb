{
 "cells": [
  {
   "cell_type": "code",
   "execution_count": null,
   "id": "9507077c",
   "metadata": {},
   "outputs": [],
   "source": [
    "## colors for plots\n",
    "colors = ['limegreen', 'darkorange', 'deeppink', 'deepskyblue', 'crimson'] \n",
    "shapes = ['o', 'x', '^', '<', '>', '.']\n",
    "def createPlot(xlabel='', \n",
    "               ylabel='', \n",
    "               title='', \n",
    "               xlim=[-1,1], \n",
    "               ylim=[-1.,1.],\n",
    "               figsize=[12, 8]):\n",
    "    \n",
    "    fig, ax = plt.subplots(figsize=figsize)\n",
    "    plt.style.use('dark_background')\n",
    "    plt.title(title, fontsize=30)\n",
    "    plt.xlabel(xlabel=xlabel, fontsize=24 )\n",
    "    plt.ylabel(ylabel=ylabel, fontsize=24 )\n",
    "    plt.xticks(fontsize=20 )\n",
    "    plt.yticks(fontsize=20 )\n",
    "#     plt.grid(b=True, which='major', linestyle='--', linewidth=.5)\n",
    "#     plt.grid(b=True, which='minor', linestyle='--', linewidth=.1)\n",
    "#     plt.minorticks_on()\n",
    "    plt.xlim(xlim)\n",
    "    plt.ylim(ylim)\n",
    "    return fig, ax"
   ]
  }
 ],
 "metadata": {
  "kernelspec": {
   "display_name": "Python 3 (ipykernel)",
   "language": "python",
   "name": "python3"
  },
  "language_info": {
   "codemirror_mode": {
    "name": "ipython",
    "version": 3
   },
   "file_extension": ".py",
   "mimetype": "text/x-python",
   "name": "python",
   "nbconvert_exporter": "python",
   "pygments_lexer": "ipython3",
   "version": "3.9.7"
  }
 },
 "nbformat": 4,
 "nbformat_minor": 5
}
